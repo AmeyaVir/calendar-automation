{
 "cells": [
  {
   "cell_type": "code",
   "execution_count": 7,
   "id": "32246f55-1122-44d8-b347-68a94c16f589",
   "metadata": {},
   "outputs": [],
   "source": [
    "from authlib.integrations.requests_client import OAuth2Session\n",
    "client_id = \"550396994206-5o6q7tb3rsrs5ektotost0dkqotfdtmo.apps.googleusercontent.com\"\n",
    "client_secret = \"oRO6Fc3u4yx4j7u_SlNc67cM\"\n",
    "scope = 'https://www.googleapis.com/auth/calendar.readonly'\n",
    "session = OAuth2Session(client_id,client_secret,scope)\n",
    "uri, state = session.create_authorization_url('http://127.0.0.1:8050/login')"
   ]
  },
  {
   "cell_type": "code",
   "execution_count": 1,
   "id": "19a433d9-4367-4cba-a3e3-f4b344d2870a",
   "metadata": {},
   "outputs": [],
   "source": [
    "import google-ap"
   ]
  },
  {
   "cell_type": "code",
   "execution_count": null,
   "id": "72feadce-719d-4f87-8d45-0e944ff6b6ae",
   "metadata": {},
   "outputs": [
    {
     "name": "stdout",
     "output_type": "stream",
     "text": [
      "<_io.TextIOWrapper name='credentials.json' mode='r' encoding='cp1252'>\n",
      "Please visit this URL to authorize this application: https://accounts.google.com/o/oauth2/auth?response_type=code&client_id=550396994206-5o6q7tb3rsrs5ektotost0dkqotfdtmo.apps.googleusercontent.com&redirect_uri=http%3A%2F%2Flocalhost%3A61228%2F&scope=https%3A%2F%2Fwww.googleapis.com%2Fauth%2Fcalendar.readonly&state=uARpJZ2W0RdsQLBeIqiN9PWN0x3Wgo&access_type=offline\n"
     ]
    }
   ],
   "source": [
    "def main():\n",
    "    \"\"\"Shows basic usage of the Google Calendar API.\n",
    "    Prints the start and name of the next 10 events on the user's calendar.\n",
    "    \"\"\"\n",
    "    creds = None\n",
    "    # The file token.json stores the user's access and refresh tokens, and is\n",
    "    # created automatically when the authorization flow completes for the first\n",
    "    # time.\n",
    "    if os.path.exists('token.json'):\n",
    "        creds = Credentials.from_authorized_user_file('token.json', SCOPES)\n",
    "    # If there are no (valid) credentials available, let the user log in.\n",
    "    if not creds or not creds.valid:\n",
    "        if creds and creds.expired and creds.refresh_token:\n",
    "            creds.refresh(Request())\n",
    "        else:\n",
    "            file=  open('credentials.json', 'r')\n",
    "            print(file)\n",
    "            file.close()\n",
    "            flow = InstalledAppFlow.from_client_secrets_file(\n",
    "                'credentials.json', SCOPES)\n",
    "            creds = flow.run_local_server(port=0)\n",
    "        # Save the credentials for the next run\n",
    "        with open('token.json', 'w') as token:\n",
    "            token.write(creds.to_json())\n",
    "\n",
    "    service = build('calendar', 'v3', credentials=creds)\n",
    "\n",
    "    # Call the Calendar API\n",
    "    now = datetime.datetime.utcnow().isoformat() + 'Z' # 'Z' indicates UTC time\n",
    "    print('Getting the upcoming 10 events')\n",
    "    events_result = service.events().list(calendarId='primary', timeMin=now,\n",
    "                                        maxResults=10, singleEvents=True,\n",
    "                                        orderBy='startTime').execute()\n",
    "    events = events_result.get('items', [])\n",
    "\n",
    "    if not events:\n",
    "        print('No upcoming events found.')\n",
    "    for event in events:\n",
    "        start = event['start'].get('dateTime', event['start'].get('date'))\n",
    "        print(start, event['summary'])\n",
    "\n",
    "\n",
    "if __name__ == '__main__':\n",
    "    main()"
   ]
  },
  {
   "cell_type": "code",
   "execution_count": 14,
   "id": "2b25d30c-a8cc-4685-b087-c0bd74139630",
   "metadata": {},
   "outputs": [
    {
     "ename": "NameError",
     "evalue": "name 'os' is not defined",
     "output_type": "error",
     "traceback": [
      "\u001b[1;31m---------------------------------------------------------------------------\u001b[0m",
      "\u001b[1;31mNameError\u001b[0m                                 Traceback (most recent call last)",
      "\u001b[1;32m<ipython-input-14-de08782c58b2>\u001b[0m in \u001b[0;36m<module>\u001b[1;34m\u001b[0m\n\u001b[1;32m----> 1\u001b[1;33m \u001b[0mlist_course\u001b[0m \u001b[1;33m=\u001b[0m \u001b[0mos\u001b[0m\u001b[1;33m.\u001b[0m\u001b[0mlistdir\u001b[0m\u001b[1;33m(\u001b[0m\u001b[1;34m'elective and section list/'\u001b[0m\u001b[1;33m)\u001b[0m\u001b[1;33m\u001b[0m\u001b[1;33m\u001b[0m\u001b[0m\n\u001b[0m",
      "\u001b[1;31mNameError\u001b[0m: name 'os' is not defined"
     ]
    }
   ],
   "source": [
    "list_course = os.listdir('elective and section list/')"
   ]
  },
  {
   "cell_type": "code",
   "execution_count": 4,
   "id": "896976bd-b7f1-4a05-95ca-a8c7db80ef60",
   "metadata": {},
   "outputs": [],
   "source": [
    "course_new = list()\n",
    "for course in list_course:\n",
    "    course_new.append(course.strip(\".pdf\"))"
   ]
  },
  {
   "cell_type": "code",
   "execution_count": 5,
   "id": "eece24d0-a9d3-4274-8c98-c616ae08cbfa",
   "metadata": {},
   "outputs": [],
   "source": [
    "list_course = list()\n",
    "for course in course_new:\n",
    "    list_course.append(course.strip('\\xa0'))"
   ]
  },
  {
   "cell_type": "code",
   "execution_count": 6,
   "id": "54d88718-a689-4ab8-987c-f5788af1eeb8",
   "metadata": {},
   "outputs": [],
   "source": [
    "dataFrame = pd.DataFrame(columns = ['Courses'])"
   ]
  },
  {
   "cell_type": "code",
   "execution_count": 7,
   "id": "38986e83-dfad-4161-ab38-9be8c74a4098",
   "metadata": {},
   "outputs": [],
   "source": [
    "dataFrame.Courses = list_course"
   ]
  },
  {
   "cell_type": "code",
   "execution_count": 8,
   "id": "e602b529-1ee0-4753-b852-56d2049b6e17",
   "metadata": {},
   "outputs": [],
   "source": [
    "excel_course = pd.read_excel('calWeek.xlsx',sheet_name= 'facultyCourse')"
   ]
  },
  {
   "cell_type": "code",
   "execution_count": 9,
   "id": "7d0a29d3-c678-49d4-803b-b83b7da00443",
   "metadata": {},
   "outputs": [
    {
     "name": "stdout",
     "output_type": "stream",
     "text": [
      " CSIE\n",
      " IBBV\n",
      " SAPM\n",
      " FIS\n",
      " CORB\n",
      " FTFS\n",
      " DAP\n",
      " ITSMDA\n",
      " ASSAM\n",
      " CB\n",
      " B2B\n",
      " IMC\n",
      " MA\n",
      " MPP\n",
      " EAHRDM\n",
      " PM\n",
      " OSCA\n",
      " BF\n",
      " SSLT\n",
      " CSR\n",
      " MPPF\n",
      " POS\n",
      " CS\n"
     ]
    }
   ],
   "source": [
    "dict_course = dict()\n",
    "try:\n",
    "    for course in excel_course.Course:\n",
    "        print(course.split(\"-\")[1])\n",
    "        dict_course.update({course.split(\"-\")[0].strip():course.split(\"-\")[1].strip()})\n",
    "except:\n",
    "    print(\"Check the list again\")"
   ]
  },
  {
   "cell_type": "code",
   "execution_count": 11,
   "id": "38382e13-4521-4994-9c8d-44d40c30e48d",
   "metadata": {},
   "outputs": [],
   "source": [
    "dict_course.update({'Corporate Social Responsibility':'CSR'})"
   ]
  },
  {
   "cell_type": "code",
   "execution_count": 12,
   "id": "ee585eda-5bbd-4a2c-bf62-b9d5edf5b9db",
   "metadata": {},
   "outputs": [
    {
     "data": {
      "text/plain": [
       "{'Current Scenario of the Indian Economy': 'CSIE',\n",
       " 'Investment Banking and Business Valuation': 'IBBV',\n",
       " 'Security Analysis and Portfolio Management': 'SAPM',\n",
       " 'Fixed Income Securities': 'FIS',\n",
       " 'Corporate Banking': 'CORB',\n",
       " 'FinTech and Financial Services': 'FTFS',\n",
       " 'Data Analysis using Python': 'DAP',\n",
       " 'IT Strategy and Management in Digital Age': 'ITSMDA',\n",
       " 'Advanced Selling Skills and Management': 'ASSAM',\n",
       " 'Consumer Behavior': 'CB',\n",
       " 'Business to Business Marketing': 'B2B',\n",
       " 'Integrated Marketing Communications': 'IMC',\n",
       " 'Marketing Analytics': 'MA',\n",
       " 'Managing People and Performance': 'MPP',\n",
       " 'Economic Analysis of Human Resource Decision Making': 'EAHRDM',\n",
       " 'Project Management': 'PM',\n",
       " 'Operations Strategy for Competitive Advantage': 'OSCA',\n",
       " 'Business Forecasting': 'BF',\n",
       " 'Six Sigma and Lean Thinking': 'SSLT',\n",
       " 'Corporate Social Responsibility: Perspectives and Practices': 'CSR',\n",
       " 'Management: Past, Present, and Future': 'MPPF',\n",
       " 'Philosophy of Sustainability': 'POS',\n",
       " 'Corporate Strategy': 'CS',\n",
       " 'Corporate Social Responsibility': 'CSR'}"
      ]
     },
     "execution_count": 12,
     "metadata": {},
     "output_type": "execute_result"
    }
   ],
   "source": [
    "dict_course"
   ]
  },
  {
   "cell_type": "code",
   "execution_count": 60,
   "id": "0cc93fde-550c-4e32-8e43-0aa617e910d9",
   "metadata": {},
   "outputs": [],
   "source": [
    "list_sec= []\n",
    "for course in dataFrame.Courses:\n",
    "    if course.find('(Section)') != -1 & course.find('2')!= -1:\n",
    "        list_sec.append(\"(S2)\")\n",
    "    elif course.find('Section') != -1 & course.find('1')!= -1:\n",
    "        list_sec.append(\"(S1)\")\n",
    "    else:\n",
    "        list_sec.append(\"\")"
   ]
  },
  {
   "cell_type": "code",
   "execution_count": 15,
   "id": "f115072d-3a01-45da-ba2c-91ddbb9b4308",
   "metadata": {},
   "outputs": [
    {
     "name": "stderr",
     "output_type": "stream",
     "text": [
      "<ipython-input-15-252f9db58424>:1: UserWarning: Pandas doesn't allow columns to be created via a new attribute name - see https://pandas.pydata.org/pandas-docs/stable/indexing.html#attribute-access\n",
      "  dataFrame.Section = list_sec\n"
     ]
    }
   ],
   "source": [
    "dataFrame.Section = list_sec"
   ]
  },
  {
   "cell_type": "code",
   "execution_count": 61,
   "id": "39e75df8-53b7-425c-a0c1-ace23c91fec2",
   "metadata": {},
   "outputs": [],
   "source": [
    "dataFrame['Section']= list_sec"
   ]
  },
  {
   "cell_type": "code",
   "execution_count": 17,
   "id": "16405daa-cc70-4016-af8f-15bd98be1287",
   "metadata": {},
   "outputs": [
    {
     "name": "stdout",
     "output_type": "stream",
     "text": [
      "Advanced Selling Skills and Management\n",
      "Business to Business Marketing\n",
      "Consumer Behavior\n",
      "Corporate Social Responsibility\n",
      "Corporate Strategy\n",
      "Current Scenario of the Indian Economy\n",
      "Data Analysis using Python\n",
      "Integrated Marketing Communications\n",
      "Investment Banking and Business Valuation\n",
      "Management Past Present, and Future\n",
      "Security Analysis and Portfolio Management\n"
     ]
    }
   ],
   "source": [
    "list_course = []\n",
    "for course in dataFrame.Courses:\n",
    "    if course.find('(Section 2)') != -1:\n",
    "        course = course.replace(\" (Section 2)\",\"\")\n",
    "        print(course)\n",
    "        list_course.append(course.strip())\n",
    "    elif course.find('(Section 1)')!= -1:\n",
    "        course = course.replace(\" (Section 1)\",\"\")\n",
    "        list_course.append(course.strip())\n",
    "    else:\n",
    "        list_course.append(course)"
   ]
  },
  {
   "cell_type": "code",
   "execution_count": 18,
   "id": "52ee6da9-3a4f-44a5-a672-d0910f7443d8",
   "metadata": {},
   "outputs": [],
   "source": [
    "dataFrame['Course_Unique'] = list_course"
   ]
  },
  {
   "cell_type": "code",
   "execution_count": 22,
   "id": "4fdccffc-cd43-41f4-8f03-a9c3187787e2",
   "metadata": {},
   "outputs": [],
   "source": [
    "dict_course.update({'Management Past Present, and Future':'MPPF'})"
   ]
  },
  {
   "cell_type": "code",
   "execution_count": 54,
   "id": "99e82e54-49b0-4970-86be-4cc408aff57e",
   "metadata": {},
   "outputs": [],
   "source": [
    "list_course_sections = [dict_course[course] for course in dataFrame.Course_Unique]"
   ]
  },
  {
   "cell_type": "code",
   "execution_count": 99,
   "id": "2170cf3b-bf0c-4cb1-b1b7-378103183615",
   "metadata": {},
   "outputs": [
    {
     "name": "stdout",
     "output_type": "stream",
     "text": [
      "Error in the code\n"
     ]
    }
   ],
   "source": [
    "list_course_str = list()\n",
    "for course in dataFrame.Course_Unique:\n",
    "    dict_key = dict_course.keys\n",
    "    #Search for key in course \n",
    "    list_keys = [dict_course[course] for i in dict_key if course in i]    "
   ]
  },
  {
   "cell_type": "code",
   "execution_count": 68,
   "id": "a03d3321-0830-49eb-944f-13b340258586",
   "metadata": {},
   "outputs": [],
   "source": [
    "dataFrame['course_key'] = list_course_sections"
   ]
  },
  {
   "cell_type": "code",
   "execution_count": 69,
   "id": "e8687ac0-5c02-438e-8e60-51bfcbe94bbe",
   "metadata": {},
   "outputs": [
    {
     "data": {
      "text/html": [
       "<div>\n",
       "<style scoped>\n",
       "    .dataframe tbody tr th:only-of-type {\n",
       "        vertical-align: middle;\n",
       "    }\n",
       "\n",
       "    .dataframe tbody tr th {\n",
       "        vertical-align: top;\n",
       "    }\n",
       "\n",
       "    .dataframe thead th {\n",
       "        text-align: right;\n",
       "    }\n",
       "</style>\n",
       "<table border=\"1\" class=\"dataframe\">\n",
       "  <thead>\n",
       "    <tr style=\"text-align: right;\">\n",
       "      <th></th>\n",
       "      <th>Courses</th>\n",
       "      <th>Section</th>\n",
       "      <th>Course_Unique</th>\n",
       "      <th>course_key</th>\n",
       "    </tr>\n",
       "  </thead>\n",
       "  <tbody>\n",
       "    <tr>\n",
       "      <th>0</th>\n",
       "      <td>Advanced Selling Skills and Management (Sectio...</td>\n",
       "      <td>(S1)</td>\n",
       "      <td>Advanced Selling Skills and Management</td>\n",
       "      <td>ASSAM</td>\n",
       "    </tr>\n",
       "    <tr>\n",
       "      <th>1</th>\n",
       "      <td>Advanced Selling Skills and Management (Sectio...</td>\n",
       "      <td>(S2)</td>\n",
       "      <td>Advanced Selling Skills and Management</td>\n",
       "      <td>ASSAM</td>\n",
       "    </tr>\n",
       "    <tr>\n",
       "      <th>2</th>\n",
       "      <td>Business Forecasting</td>\n",
       "      <td></td>\n",
       "      <td>Business Forecasting</td>\n",
       "      <td>BF</td>\n",
       "    </tr>\n",
       "    <tr>\n",
       "      <th>3</th>\n",
       "      <td>Business to Business Marketing (Section 1)</td>\n",
       "      <td>(S1)</td>\n",
       "      <td>Business to Business Marketing</td>\n",
       "      <td>B2B</td>\n",
       "    </tr>\n",
       "    <tr>\n",
       "      <th>4</th>\n",
       "      <td>Business to Business Marketing (Section 2)</td>\n",
       "      <td>(S2)</td>\n",
       "      <td>Business to Business Marketing</td>\n",
       "      <td>B2B</td>\n",
       "    </tr>\n",
       "    <tr>\n",
       "      <th>5</th>\n",
       "      <td>Consumer Behavior (Section 1)</td>\n",
       "      <td>(S1)</td>\n",
       "      <td>Consumer Behavior</td>\n",
       "      <td>CB</td>\n",
       "    </tr>\n",
       "    <tr>\n",
       "      <th>6</th>\n",
       "      <td>Consumer Behavior (Section 2)</td>\n",
       "      <td>(S2)</td>\n",
       "      <td>Consumer Behavior</td>\n",
       "      <td>CB</td>\n",
       "    </tr>\n",
       "    <tr>\n",
       "      <th>7</th>\n",
       "      <td>Corporate Banking</td>\n",
       "      <td></td>\n",
       "      <td>Corporate Banking</td>\n",
       "      <td>CORB</td>\n",
       "    </tr>\n",
       "    <tr>\n",
       "      <th>8</th>\n",
       "      <td>Corporate Social Responsibility (Section 1)</td>\n",
       "      <td>(S1)</td>\n",
       "      <td>Corporate Social Responsibility</td>\n",
       "      <td>CSR</td>\n",
       "    </tr>\n",
       "    <tr>\n",
       "      <th>9</th>\n",
       "      <td>Corporate Social Responsibility (Section 2)</td>\n",
       "      <td>(S2)</td>\n",
       "      <td>Corporate Social Responsibility</td>\n",
       "      <td>CSR</td>\n",
       "    </tr>\n",
       "    <tr>\n",
       "      <th>10</th>\n",
       "      <td>Corporate Strategy (Section 1)</td>\n",
       "      <td>(S1)</td>\n",
       "      <td>Corporate Strategy</td>\n",
       "      <td>CS</td>\n",
       "    </tr>\n",
       "    <tr>\n",
       "      <th>11</th>\n",
       "      <td>Corporate Strategy (Section 2)</td>\n",
       "      <td>(S2)</td>\n",
       "      <td>Corporate Strategy</td>\n",
       "      <td>CS</td>\n",
       "    </tr>\n",
       "    <tr>\n",
       "      <th>12</th>\n",
       "      <td>Current Scenario of the Indian Economy (Sectio...</td>\n",
       "      <td>(S1)</td>\n",
       "      <td>Current Scenario of the Indian Economy</td>\n",
       "      <td>CSIE</td>\n",
       "    </tr>\n",
       "    <tr>\n",
       "      <th>13</th>\n",
       "      <td>Current Scenario of the Indian Economy (Sectio...</td>\n",
       "      <td>(S2)</td>\n",
       "      <td>Current Scenario of the Indian Economy</td>\n",
       "      <td>CSIE</td>\n",
       "    </tr>\n",
       "    <tr>\n",
       "      <th>14</th>\n",
       "      <td>Data Analysis using Python (Section 1)</td>\n",
       "      <td>(S1)</td>\n",
       "      <td>Data Analysis using Python</td>\n",
       "      <td>DAP</td>\n",
       "    </tr>\n",
       "    <tr>\n",
       "      <th>15</th>\n",
       "      <td>Data Analysis using Python (Section 2)</td>\n",
       "      <td>(S2)</td>\n",
       "      <td>Data Analysis using Python</td>\n",
       "      <td>DAP</td>\n",
       "    </tr>\n",
       "    <tr>\n",
       "      <th>16</th>\n",
       "      <td>Economic Analysis of Human Resource Decision M...</td>\n",
       "      <td></td>\n",
       "      <td>Economic Analysis of Human Resource Decision M...</td>\n",
       "      <td>EAHRDM</td>\n",
       "    </tr>\n",
       "    <tr>\n",
       "      <th>17</th>\n",
       "      <td>FinTech and Financial Services</td>\n",
       "      <td></td>\n",
       "      <td>FinTech and Financial Services</td>\n",
       "      <td>FTFS</td>\n",
       "    </tr>\n",
       "    <tr>\n",
       "      <th>18</th>\n",
       "      <td>Fixed Income Securities</td>\n",
       "      <td></td>\n",
       "      <td>Fixed Income Securities</td>\n",
       "      <td>FIS</td>\n",
       "    </tr>\n",
       "    <tr>\n",
       "      <th>19</th>\n",
       "      <td>Integrated Marketing Communications (Section 1)</td>\n",
       "      <td>(S1)</td>\n",
       "      <td>Integrated Marketing Communications</td>\n",
       "      <td>IMC</td>\n",
       "    </tr>\n",
       "    <tr>\n",
       "      <th>20</th>\n",
       "      <td>Integrated Marketing Communications (Section 2)</td>\n",
       "      <td>(S2)</td>\n",
       "      <td>Integrated Marketing Communications</td>\n",
       "      <td>IMC</td>\n",
       "    </tr>\n",
       "    <tr>\n",
       "      <th>21</th>\n",
       "      <td>Investment Banking and Business Valuation (Sec...</td>\n",
       "      <td>(S1)</td>\n",
       "      <td>Investment Banking and Business Valuation</td>\n",
       "      <td>IBBV</td>\n",
       "    </tr>\n",
       "    <tr>\n",
       "      <th>22</th>\n",
       "      <td>Investment Banking and Business Valuation (Sec...</td>\n",
       "      <td>(S2)</td>\n",
       "      <td>Investment Banking and Business Valuation</td>\n",
       "      <td>IBBV</td>\n",
       "    </tr>\n",
       "    <tr>\n",
       "      <th>23</th>\n",
       "      <td>IT Strategy and Management in Digital Age</td>\n",
       "      <td></td>\n",
       "      <td>IT Strategy and Management in Digital Age</td>\n",
       "      <td>ITSMDA</td>\n",
       "    </tr>\n",
       "    <tr>\n",
       "      <th>24</th>\n",
       "      <td>Management Past Present, and Future (Section 1)</td>\n",
       "      <td>(S1)</td>\n",
       "      <td>Management Past Present, and Future</td>\n",
       "      <td>MPPF</td>\n",
       "    </tr>\n",
       "    <tr>\n",
       "      <th>25</th>\n",
       "      <td>Management Past Present, and Future (Section 2)</td>\n",
       "      <td>(S2)</td>\n",
       "      <td>Management Past Present, and Future</td>\n",
       "      <td>MPPF</td>\n",
       "    </tr>\n",
       "    <tr>\n",
       "      <th>26</th>\n",
       "      <td>Managing People and Performance</td>\n",
       "      <td></td>\n",
       "      <td>Managing People and Performance</td>\n",
       "      <td>MPP</td>\n",
       "    </tr>\n",
       "    <tr>\n",
       "      <th>27</th>\n",
       "      <td>Marketing Analytics</td>\n",
       "      <td></td>\n",
       "      <td>Marketing Analytics</td>\n",
       "      <td>MA</td>\n",
       "    </tr>\n",
       "    <tr>\n",
       "      <th>28</th>\n",
       "      <td>Operations Strategy for Competitive Advantage</td>\n",
       "      <td></td>\n",
       "      <td>Operations Strategy for Competitive Advantage</td>\n",
       "      <td>OSCA</td>\n",
       "    </tr>\n",
       "    <tr>\n",
       "      <th>29</th>\n",
       "      <td>Philosophy of Sustainability</td>\n",
       "      <td></td>\n",
       "      <td>Philosophy of Sustainability</td>\n",
       "      <td>POS</td>\n",
       "    </tr>\n",
       "    <tr>\n",
       "      <th>30</th>\n",
       "      <td>Project Management</td>\n",
       "      <td></td>\n",
       "      <td>Project Management</td>\n",
       "      <td>PM</td>\n",
       "    </tr>\n",
       "    <tr>\n",
       "      <th>31</th>\n",
       "      <td>Security Analysis and Portfolio Management (Se...</td>\n",
       "      <td>(S1)</td>\n",
       "      <td>Security Analysis and Portfolio Management</td>\n",
       "      <td>SAPM</td>\n",
       "    </tr>\n",
       "    <tr>\n",
       "      <th>32</th>\n",
       "      <td>Security Analysis and Portfolio Management (Se...</td>\n",
       "      <td>(S2)</td>\n",
       "      <td>Security Analysis and Portfolio Management</td>\n",
       "      <td>SAPM</td>\n",
       "    </tr>\n",
       "    <tr>\n",
       "      <th>33</th>\n",
       "      <td>Six Sigma and Lean Thinking</td>\n",
       "      <td></td>\n",
       "      <td>Six Sigma and Lean Thinking</td>\n",
       "      <td>SSLT</td>\n",
       "    </tr>\n",
       "  </tbody>\n",
       "</table>\n",
       "</div>"
      ],
      "text/plain": [
       "                                              Courses Section  \\\n",
       "0   Advanced Selling Skills and Management (Sectio...    (S1)   \n",
       "1   Advanced Selling Skills and Management (Sectio...    (S2)   \n",
       "2                                Business Forecasting           \n",
       "3          Business to Business Marketing (Section 1)    (S1)   \n",
       "4          Business to Business Marketing (Section 2)    (S2)   \n",
       "5                       Consumer Behavior (Section 1)    (S1)   \n",
       "6                       Consumer Behavior (Section 2)    (S2)   \n",
       "7                                   Corporate Banking           \n",
       "8         Corporate Social Responsibility (Section 1)    (S1)   \n",
       "9         Corporate Social Responsibility (Section 2)    (S2)   \n",
       "10                     Corporate Strategy (Section 1)    (S1)   \n",
       "11                     Corporate Strategy (Section 2)    (S2)   \n",
       "12  Current Scenario of the Indian Economy (Sectio...    (S1)   \n",
       "13  Current Scenario of the Indian Economy (Sectio...    (S2)   \n",
       "14             Data Analysis using Python (Section 1)    (S1)   \n",
       "15             Data Analysis using Python (Section 2)    (S2)   \n",
       "16  Economic Analysis of Human Resource Decision M...           \n",
       "17                     FinTech and Financial Services           \n",
       "18                            Fixed Income Securities           \n",
       "19    Integrated Marketing Communications (Section 1)    (S1)   \n",
       "20    Integrated Marketing Communications (Section 2)    (S2)   \n",
       "21  Investment Banking and Business Valuation (Sec...    (S1)   \n",
       "22  Investment Banking and Business Valuation (Sec...    (S2)   \n",
       "23          IT Strategy and Management in Digital Age           \n",
       "24    Management Past Present, and Future (Section 1)    (S1)   \n",
       "25    Management Past Present, and Future (Section 2)    (S2)   \n",
       "26                    Managing People and Performance           \n",
       "27                                Marketing Analytics           \n",
       "28      Operations Strategy for Competitive Advantage           \n",
       "29                       Philosophy of Sustainability           \n",
       "30                                 Project Management           \n",
       "31  Security Analysis and Portfolio Management (Se...    (S1)   \n",
       "32  Security Analysis and Portfolio Management (Se...    (S2)   \n",
       "33                        Six Sigma and Lean Thinking           \n",
       "\n",
       "                                        Course_Unique course_key  \n",
       "0              Advanced Selling Skills and Management      ASSAM  \n",
       "1              Advanced Selling Skills and Management      ASSAM  \n",
       "2                                Business Forecasting         BF  \n",
       "3                      Business to Business Marketing        B2B  \n",
       "4                      Business to Business Marketing        B2B  \n",
       "5                                   Consumer Behavior         CB  \n",
       "6                                   Consumer Behavior         CB  \n",
       "7                                   Corporate Banking       CORB  \n",
       "8                     Corporate Social Responsibility        CSR  \n",
       "9                     Corporate Social Responsibility        CSR  \n",
       "10                                 Corporate Strategy         CS  \n",
       "11                                 Corporate Strategy         CS  \n",
       "12             Current Scenario of the Indian Economy       CSIE  \n",
       "13             Current Scenario of the Indian Economy       CSIE  \n",
       "14                         Data Analysis using Python        DAP  \n",
       "15                         Data Analysis using Python        DAP  \n",
       "16  Economic Analysis of Human Resource Decision M...     EAHRDM  \n",
       "17                     FinTech and Financial Services       FTFS  \n",
       "18                            Fixed Income Securities        FIS  \n",
       "19                Integrated Marketing Communications        IMC  \n",
       "20                Integrated Marketing Communications        IMC  \n",
       "21          Investment Banking and Business Valuation       IBBV  \n",
       "22          Investment Banking and Business Valuation       IBBV  \n",
       "23          IT Strategy and Management in Digital Age     ITSMDA  \n",
       "24                Management Past Present, and Future       MPPF  \n",
       "25                Management Past Present, and Future       MPPF  \n",
       "26                    Managing People and Performance        MPP  \n",
       "27                                Marketing Analytics         MA  \n",
       "28      Operations Strategy for Competitive Advantage       OSCA  \n",
       "29                       Philosophy of Sustainability        POS  \n",
       "30                                 Project Management         PM  \n",
       "31         Security Analysis and Portfolio Management       SAPM  \n",
       "32         Security Analysis and Portfolio Management       SAPM  \n",
       "33                        Six Sigma and Lean Thinking       SSLT  "
      ]
     },
     "execution_count": 69,
     "metadata": {},
     "output_type": "execute_result"
    }
   ],
   "source": [
    "dataFrame"
   ]
  },
  {
   "cell_type": "code",
   "execution_count": 26,
   "id": "6f26835a-a9a6-43ff-bfa5-9f46a8724098",
   "metadata": {},
   "outputs": [],
   "source": [
    "for index in dataFrame.index:\n",
    "    if dataFrame.loc[index]['Courses'].find('Section') != -1:\n",
    "        \n"
   ]
  },
  {
   "cell_type": "code",
   "execution_count": 32,
   "id": "2f9c1dd7-45c2-48ae-a98e-5bd82088e907",
   "metadata": {},
   "outputs": [
    {
     "data": {
      "text/plain": [
       "{'Advanced Selling Skills and Management (Section 1)': 'ASSAM (S1)',\n",
       " 'Advanced Selling Skills and Management (Section 2)': 'ASSAM (S2)',\n",
       " 'Business Forecasting': 'BF (S1)',\n",
       " 'Business to Business Marketing (Section 1)': 'B2B (S1)',\n",
       " 'Business to Business Marketing (Section 2)': 'B2B (S2)',\n",
       " 'Consumer Behavior (Section 1)': 'CB (S1)',\n",
       " 'Consumer Behavior (Section 2)': 'CB (S2)',\n",
       " 'Corporate Banking': 'CORB (S1)',\n",
       " 'Corporate Social Responsibility (Section 1)': 'CSR (S1)',\n",
       " 'Corporate Social Responsibility (Section 2)': 'CSR (S2)',\n",
       " 'Corporate Strategy (Section 1)': 'CS (S1)',\n",
       " 'Corporate Strategy (Section 2)': 'CS (S2)',\n",
       " 'Current Scenario of the Indian Economy (Section 1)': 'CSIE (S1)',\n",
       " 'Current Scenario of the Indian Economy (Section 2)': 'CSIE (S2)',\n",
       " 'Data Analysis using Python (Section 1)': 'DAP (S1)',\n",
       " 'Data Analysis using Python (Section 2)': 'DAP (S2)',\n",
       " 'Economic Analysis of Human Resource Decision Making': 'EAHRDM (S1)',\n",
       " 'FinTech and Financial Services': 'FTFS (S1)',\n",
       " 'Fixed Income Securities': 'FIS (S1)',\n",
       " 'Integrated Marketing Communications (Section 1)': 'IMC (S1)',\n",
       " 'Integrated Marketing Communications (Section 2)': 'IMC (S2)',\n",
       " 'Investment Banking and Business Valuation (Section 1)': 'IBBV (S1)',\n",
       " 'Investment Banking and Business Valuation (Section 2)': 'IBBV (S2)',\n",
       " 'IT Strategy and Management in Digital Age': 'ITSMDA (S1)',\n",
       " 'Management Past Present, and Future (Section 1)': 'MPPF (S1)',\n",
       " 'Management Past Present, and Future (Section 2)': 'MPPF (S2)',\n",
       " 'Managing People and Performance': 'MPP (S1)',\n",
       " 'Marketing Analytics': 'MA (S1)',\n",
       " 'Operations Strategy for Competitive Advantage': 'OSCA (S1)',\n",
       " 'Philosophy of Sustainability': 'POS (S1)',\n",
       " 'Project Management': 'PM (S1)',\n",
       " 'Security Analysis and Portfolio Management (Section 1)': 'SAPM (S1)',\n",
       " 'Security Analysis and Portfolio Management (Section 2)': 'SAPM (S2)',\n",
       " 'Six Sigma and Lean Thinking': 'SSLT (S1)'}"
      ]
     },
     "execution_count": 32,
     "metadata": {},
     "output_type": "execute_result"
    }
   ],
   "source": [
    "dict_final = {dataFrame.loc[index]['Courses']:dataFrame.loc[index]['course_key'] for index in dataFrame.index}"
   ]
  },
  {
   "cell_type": "code",
   "execution_count": 35,
   "id": "ca982ece-2eb8-4701-bfdc-35f4984616fc",
   "metadata": {},
   "outputs": [],
   "source": [
    "dataFrame.drop(columns =['Courses','Course_Unique']).to_csv('course_tt_match.csv')"
   ]
  },
  {
   "cell_type": "code",
   "execution_count": 43,
   "id": "86633c63-95b3-4703-ae5b-ea65eb7afe00",
   "metadata": {},
   "outputs": [],
   "source": [
    "data_upd = pd.read_csv('course_tt_match.csv',index_col=0)\n",
    "dict_final = {data_upd.loc[index]['Courses']:data_upd.loc[index]['course_key'] for index in dataFrame.index}"
   ]
  },
  {
   "cell_type": "code",
   "execution_count": 46,
   "id": "eae76a2b-da5a-4c66-bcfa-979b7f20a9db",
   "metadata": {},
   "outputs": [],
   "source": [
    "option = [{'label':data_upd.loc[index]['Courses'], 'value': data_upd.loc[index]['course_key']} for index in data_upd.index]"
   ]
  },
  {
   "cell_type": "code",
   "execution_count": 70,
   "id": "7af3ff44-c1ef-4709-bac4-235fcb534ee2",
   "metadata": {},
   "outputs": [],
   "source": [
    "dataFrame['course_key'] = dataFrame['course_key']+\" \"+dataFrame['Section']"
   ]
  },
  {
   "cell_type": "code",
   "execution_count": 48,
   "id": "750be4c5-8c8d-42b1-9dc2-20ac1815eb86",
   "metadata": {},
   "outputs": [],
   "source": [
    "data_schedule = pd.read_csv('schedule.csv')"
   ]
  },
  {
   "cell_type": "code",
   "execution_count": 51,
   "id": "a3158903-47e2-4d11-8246-817f2a0033a1",
   "metadata": {},
   "outputs": [],
   "source": [
    "data_upd = pd.read_csv('course_tt_match.csv')"
   ]
  },
  {
   "cell_type": "code",
   "execution_count": 74,
   "id": "df1141f8-7a99-4616-8be5-e4a27b989dcf",
   "metadata": {},
   "outputs": [],
   "source": [
    "dataFrame.to_csv('course_list.csv',index=False)"
   ]
  },
  {
   "cell_type": "code",
   "execution_count": 77,
   "id": "a719d409-21b0-43b9-8079-91229f077fb3",
   "metadata": {},
   "outputs": [
    {
     "ename": "TypeError",
     "evalue": "unsupported operand type(s) for +: 'datetime.time' and 'datetime.date'",
     "output_type": "error",
     "traceback": [
      "\u001b[1;31m---------------------------------------------------------------------------\u001b[0m",
      "\u001b[1;31mTypeError\u001b[0m                                 Traceback (most recent call last)",
      "\u001b[1;32m<ipython-input-77-644b4a693f15>\u001b[0m in \u001b[0;36m<module>\u001b[1;34m\u001b[0m\n\u001b[0;32m      1\u001b[0m \u001b[1;32mimport\u001b[0m \u001b[0mdatetime\u001b[0m\u001b[1;33m\u001b[0m\u001b[1;33m\u001b[0m\u001b[0m\n\u001b[1;32m----> 2\u001b[1;33m \u001b[0mdatetime\u001b[0m\u001b[1;33m.\u001b[0m\u001b[0mtime\u001b[0m\u001b[1;33m(\u001b[0m\u001b[1;36m9\u001b[0m\u001b[1;33m,\u001b[0m\u001b[1;36m0\u001b[0m\u001b[1;33m)\u001b[0m\u001b[1;33m+\u001b[0m\u001b[0mdatetime\u001b[0m\u001b[1;33m.\u001b[0m\u001b[0mdate\u001b[0m\u001b[1;33m(\u001b[0m\u001b[1;36m2021\u001b[0m\u001b[1;33m,\u001b[0m\u001b[1;36m5\u001b[0m\u001b[1;33m,\u001b[0m\u001b[1;36m7\u001b[0m\u001b[1;33m)\u001b[0m\u001b[1;33m\u001b[0m\u001b[1;33m\u001b[0m\u001b[0m\n\u001b[0m",
      "\u001b[1;31mTypeError\u001b[0m: unsupported operand type(s) for +: 'datetime.time' and 'datetime.date'"
     ]
    }
   ],
   "source": [
    "import datetime\n",
    "datetime.time(9,0)+datetime.date(2021,5,7)"
   ]
  },
  {
   "cell_type": "code",
   "execution_count": 2,
   "id": "911fd899-47f4-499b-956f-d30d077b2d4d",
   "metadata": {},
   "outputs": [],
   "source": [
    "from apiclient.discovery import build\n",
    "from google_auth_oauthlib.flow import InstalledAppFlow\n",
    "scopes = ['https://www.googleapis.com/auth/calendar']"
   ]
  },
  {
   "cell_type": "code",
   "execution_count": null,
   "id": "d2c0cfc2-c65a-47b4-a940-d28c7538a1b8",
   "metadata": {},
   "outputs": [
    {
     "name": "stdout",
     "output_type": "stream",
     "text": [
      "Please visit this URL to authorize this application: https://accounts.google.com/o/oauth2/auth?response_type=code&client_id=550396994206-5o6q7tb3rsrs5ektotost0dkqotfdtmo.apps.googleusercontent.com&redirect_uri=urn%3Aietf%3Awg%3Aoauth%3A2.0%3Aoob&scope=https%3A%2F%2Fwww.googleapis.com%2Fauth%2Fcalendar&state=7p00Vtzhgj2fpyHVCVzQMvzu5mws3R&prompt=consent&access_type=offline\n"
     ]
    }
   ],
   "source": [
    "flow = InstalledAppFlow.from_client_secrets_file(\"client_secret.json\",scopes = scopes)\n",
    "credentials = flow.run_console()"
   ]
  },
  {
   "cell_type": "code",
   "execution_count": 5,
   "id": "25ccfc94-21f2-46d7-80e8-7147a308841e",
   "metadata": {},
   "outputs": [],
   "source": [
    "import pickle\n",
    "pickle.dump(credentials, open('token.pkl','wb'))"
   ]
  },
  {
   "cell_type": "code",
   "execution_count": 6,
   "id": "d2f9765c-f281-425e-a417-8172ae65f009",
   "metadata": {},
   "outputs": [],
   "source": [
    "credentials = pickle.load(open('token.pkl','rb'))"
   ]
  },
  {
   "cell_type": "code",
   "execution_count": 7,
   "id": "1aece51e-b8b0-4735-ad69-f591a27a26ab",
   "metadata": {},
   "outputs": [],
   "source": [
    "service = build('calendar','v3',credentials = credentials)"
   ]
  },
  {
   "cell_type": "code",
   "execution_count": 10,
   "id": "eb03c2df-e4cc-4006-a51f-804dfcabc2ca",
   "metadata": {},
   "outputs": [
    {
     "data": {
      "text/plain": [
       "<googleapiclient.discovery.Resource at 0x1a099bf07f0>"
      ]
     },
     "execution_count": 10,
     "metadata": {},
     "output_type": "execute_result"
    }
   ],
   "source": [
    "service.events()."
   ]
  },
  {
   "cell_type": "code",
   "execution_count": null,
   "id": "f93ccb04-bae4-4648-9e02-31614860a4d6",
   "metadata": {},
   "outputs": [],
   "source": []
  }
 ],
 "metadata": {
  "kernelspec": {
   "display_name": "Python 3",
   "language": "python",
   "name": "python3"
  },
  "language_info": {
   "codemirror_mode": {
    "name": "ipython",
    "version": 3
   },
   "file_extension": ".py",
   "mimetype": "text/x-python",
   "name": "python",
   "nbconvert_exporter": "python",
   "pygments_lexer": "ipython3",
   "version": "3.8.11"
  }
 },
 "nbformat": 4,
 "nbformat_minor": 5
}
